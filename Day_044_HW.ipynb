{
 "cells": [
  {
   "cell_type": "markdown",
   "metadata": {},
   "source": [
    "## 作業\n",
    "\n",
    "1. 試著調整 RandomForestClassifier(...) 中的參數，並觀察是否會改變結果？\n",
    "2. 改用其他資料集 (boston, wine)，並與回歸模型與決策樹的結果進行比較"
   ]
  },
  {
   "cell_type": "code",
   "execution_count": 1,
   "metadata": {},
   "outputs": [],
   "source": [
    "from sklearn import datasets, metrics\n",
    "from sklearn.ensemble import RandomForestRegressor\n",
    "from sklearn.model_selection import train_test_split\n",
    "\n",
    "wine = datasets.load_wine()\n",
    "x_train, x_test, y_train, y_test = train_test_split(wine.data, wine.target, test_size=0.2, random_state=4)"
   ]
  },
  {
   "cell_type": "code",
   "execution_count": 2,
   "metadata": {},
   "outputs": [
    {
     "name": "stdout",
     "output_type": "stream",
     "text": [
      "MAE:  0.10833333333333334\n"
     ]
    }
   ],
   "source": [
    "reg = RandomForestRegressor()\n",
    "reg.fit(x_train, y_train)\n",
    "pred = reg.predict(x_test)\n",
    "acc = metrics.mean_absolute_error(y_test, pred)\n",
    "print(\"MAE: \", acc)"
   ]
  },
  {
   "cell_type": "code",
   "execution_count": 3,
   "metadata": {},
   "outputs": [
    {
     "name": "stdout",
     "output_type": "stream",
     "text": [
      "Feature importance:  [0.0247257  0.00284606 0.00067826 0.0087856  0.0145974  0.\n",
      " 0.37499049 0.         0.00087874 0.11381767 0.02268658 0.19825759\n",
      " 0.23773591]\n"
     ]
    }
   ],
   "source": [
    "print(\"Feature importance: \", reg.feature_importances_)"
   ]
  },
  {
   "cell_type": "markdown",
   "metadata": {},
   "source": [
    "### GridSearchCV暴力試參數"
   ]
  },
  {
   "cell_type": "code",
   "execution_count": 4,
   "metadata": {},
   "outputs": [],
   "source": [
    "from sklearn.ensemble import RandomForestClassifier\n",
    "from sklearn.model_selection import GridSearchCV\n",
    "from sklearn.pipeline import Pipeline\n",
    "\n",
    "def get_best_model_and_accuracy(model, params, X, y):\n",
    "    # n_jobs=-1 會使用cpu全部的運算力\n",
    "    grid = GridSearchCV(model, params, cv=5, error_score=0, n_jobs=-1)\n",
    "    grid.fit(X, y)\n",
    "    print(\"Best accuracy: {}\".format(grid.best_score_))\n",
    "    print(\"Best params: {}\".format(grid.best_params_))\n",
    "    print(\"Average time to fit (s): {:.3f}\".format(grid.cv_results_['mean_fit_time'].mean()))\n",
    "    print(\"Average time to score (s): {:.3f}\".format(grid.cv_results_['mean_score_time'].mean()))"
   ]
  },
  {
   "cell_type": "code",
   "execution_count": 5,
   "metadata": {},
   "outputs": [
    {
     "name": "stdout",
     "output_type": "stream",
     "text": [
      "Best accuracy: 0.9775280898876404\n",
      "Best params: {'clf__criterion': 'gini', 'clf__min_samples_split': 5, 'clf__n_estimators': 20, 'clf__min_samples_leaf': 2}\n",
      "Average time to fit (s): 0.082\n",
      "Average time to score (s): 0.004\n"
     ]
    }
   ],
   "source": [
    "clf = RandomForestClassifier()\n",
    "\n",
    "pipeline = Pipeline([\n",
    "    ('clf', clf)\n",
    "])\n",
    "params = {\n",
    "    'clf__n_estimators': [10, 20, 50, 100],\n",
    "    'clf__criterion': ['gini', 'entropy'],\n",
    "    'clf__min_samples_split': [2, 5, 10],\n",
    "    'clf__min_samples_leaf': [2, 5, 10],\n",
    "}\n",
    "get_best_model_and_accuracy(pipeline, params, wine.data, wine.target)"
   ]
  },
  {
   "cell_type": "markdown",
   "metadata": {},
   "source": [
    "### 測試找出的最佳參數"
   ]
  },
  {
   "cell_type": "code",
   "execution_count": 9,
   "metadata": {},
   "outputs": [
    {
     "name": "stdout",
     "output_type": "stream",
     "text": [
      "Accuracy = 1.000\n"
     ]
    }
   ],
   "source": [
    "from sklearn.metrics import accuracy_score\n",
    "rf = RandomForestClassifier(n_estimators=50, criterion='gini', min_samples_leaf=5, min_samples_split=10)\n",
    "rf.fit(x_train, y_train)\n",
    "y_pred = rf.predict(x_test)\n",
    "\n",
    "print(\"Accuracy = {:.3f}\".format(accuracy_score(y_test, y_pred)))"
   ]
  },
  {
   "cell_type": "markdown",
   "metadata": {},
   "source": [
    "### 測試深度不同的Tree對準確度造成的影響"
   ]
  },
  {
   "cell_type": "code",
   "execution_count": 10,
   "metadata": {},
   "outputs": [
    {
     "name": "stdout",
     "output_type": "stream",
     "text": [
      "max_depth=1, Accuracy = 1.000\n",
      "max_depth=2, Accuracy = 0.972\n",
      "max_depth=5, Accuracy = 1.000\n",
      "max_depth=10, Accuracy = 1.000\n"
     ]
    }
   ],
   "source": [
    "for depth in [1, 2, 5, 10]:\n",
    "    rf = RandomForestClassifier(n_estimators=50, criterion='gini', min_samples_leaf=5, min_samples_split=10, max_depth=depth)\n",
    "    rf.fit(x_train, y_train)\n",
    "    y_pred = rf.predict(x_test)\n",
    "\n",
    "    print(\"max_depth={}, Accuracy = {:.3f}\".format(depth, accuracy_score(y_test, y_pred)))"
   ]
  }
 ],
 "metadata": {
  "kernelspec": {
   "display_name": "Python 3",
   "language": "python",
   "name": "python3"
  },
  "language_info": {
   "codemirror_mode": {
    "name": "ipython",
    "version": 3
   },
   "file_extension": ".py",
   "mimetype": "text/x-python",
   "name": "python",
   "nbconvert_exporter": "python",
   "pygments_lexer": "ipython3",
   "version": "3.5.5"
  }
 },
 "nbformat": 4,
 "nbformat_minor": 2
}
