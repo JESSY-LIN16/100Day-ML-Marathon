{
 "cells": [
  {
   "cell_type": "code",
   "execution_count": 1,
   "metadata": {
    "collapsed": true
   },
   "outputs": [],
   "source": [
    "# Import 需要的套件\n",
    "import os\n",
    "import numpy as np\n",
    "import pandas as pd\n",
    "\n",
    "import matplotlib.pyplot as plt\n",
    "%matplotlib inline"
   ]
  },
  {
   "cell_type": "code",
   "execution_count": 2,
   "metadata": {
    "collapsed": true
   },
   "outputs": [
    {
     "name": "stdout",
     "output_type": "stream",
     "text": [
      "0         False\n",
      "1         False\n",
      "2         False\n",
      "3         False\n",
      "4         False\n",
      "5         False\n",
      "6         False\n",
      "7         False\n",
      "8          True\n",
      "9         False\n",
      "10        False\n",
      "11         True\n",
      "12        False\n",
      "13        False\n",
      "14        False\n",
      "15        False\n",
      "16        False\n",
      "17        False\n",
      "18        False\n",
      "19        False\n",
      "20        False\n",
      "21        False\n",
      "22        False\n",
      "23         True\n",
      "24        False\n",
      "25        False\n",
      "26        False\n",
      "27        False\n",
      "28        False\n",
      "29        False\n",
      "          ...  \n",
      "307481    False\n",
      "307482    False\n",
      "307483     True\n",
      "307484    False\n",
      "307485    False\n",
      "307486    False\n",
      "307487     True\n",
      "307488    False\n",
      "307489    False\n",
      "307490    False\n",
      "307491    False\n",
      "307492    False\n",
      "307493    False\n",
      "307494    False\n",
      "307495    False\n",
      "307496    False\n",
      "307497    False\n",
      "307498    False\n",
      "307499    False\n",
      "307500    False\n",
      "307501    False\n",
      "307502    False\n",
      "307503    False\n",
      "307504    False\n",
      "307505     True\n",
      "307506    False\n",
      "307507     True\n",
      "307508    False\n",
      "307509    False\n",
      "307510    False\n",
      "Name: DAYS_EMPLOYED_ANOM, Length: 307511, dtype: bool\n"
     ]
    }
   ],
   "source": [
    "# 設定 data_path\n",
    "dir_data = './data/'\n",
    "f_app_train = os.path.join(dir_data, 'application_train.csv')\n",
    "f_app_test = os.path.join(dir_data, 'application_test.csv')\n",
    "\n",
    "app_train = pd.read_csv(f_app_train)\n",
    "app_test = pd.read_csv(f_app_test)\n",
    "\n",
    "from sklearn.preprocessing import LabelEncoder\n",
    "\n",
    "# Create a label encoder object\n",
    "le = LabelEncoder()\n",
    "le_count = 0\n",
    "\n",
    "# Iterate through the columns\n",
    "for col in app_train:\n",
    "    if app_train[col].dtype == 'object':\n",
    "        # If 2 or fewer unique categories\n",
    "        if len(list(app_train[col].unique())) <= 2:\n",
    "            # Train on the training data\n",
    "            le.fit(app_train[col])\n",
    "            # Transform both training and testing data\n",
    "            app_train[col] = le.transform(app_train[col])\n",
    "            app_test[col] = le.transform(app_test[col])\n",
    "            \n",
    "            # Keep track of how many columns were label encoded\n",
    "            le_count += 1\n",
    "\n",
    "# one hot encoding\n",
    "app_train = pd.get_dummies(app_train)\n",
    "app_test = pd.get_dummies(app_test)\n",
    "\n",
    "# Create an anomalous(異常的) flag column\n",
    "# app_train[\"DAYS_EMPLOYED\"] == 365243 會回傳判斷的true/ false\n",
    "app_train['DAYS_EMPLOYED_ANOM'] = app_train[\"DAYS_EMPLOYED\"] == 365243\n",
    "app_train['DAYS_EMPLOYED'].replace({365243: np.nan}, inplace = True)\n",
    "# also apply to testing dataset\n",
    "app_test['DAYS_EMPLOYED_ANOM'] = app_test[\"DAYS_EMPLOYED\"] == 365243\n",
    "app_test[\"DAYS_EMPLOYED\"].replace({365243: np.nan}, inplace = True)\n",
    "\n",
    "# absolute the value of DAYS_BIRTH\n",
    "app_train['DAYS_BIRTH'] = abs(app_train['DAYS_BIRTH'])\n",
    "app_test['DAYS_BIRTH'] = abs(app_test['DAYS_BIRTH'])"
   ]
  },
  {
   "cell_type": "markdown",
   "metadata": {},
   "source": [
    "### 相關係數\n",
    "一樣，pandas 很貼心地讓我們可以非常容易計算相關係數"
   ]
  },
  {
   "cell_type": "code",
   "execution_count": 3,
   "metadata": {},
   "outputs": [
    {
     "data": {
      "text/plain": [
       "SK_ID_CURR                                 -0.002108\n",
       "TARGET                                      1.000000\n",
       "NAME_CONTRACT_TYPE                         -0.030896\n",
       "FLAG_OWN_CAR                               -0.021851\n",
       "FLAG_OWN_REALTY                            -0.006148\n",
       "CNT_CHILDREN                                0.019187\n",
       "AMT_INCOME_TOTAL                           -0.003982\n",
       "AMT_CREDIT                                 -0.030369\n",
       "AMT_ANNUITY                                -0.012817\n",
       "AMT_GOODS_PRICE                            -0.039645\n",
       "REGION_POPULATION_RELATIVE                 -0.037227\n",
       "DAYS_BIRTH                                 -0.078239\n",
       "DAYS_EMPLOYED                               0.074958\n",
       "DAYS_REGISTRATION                           0.041975\n",
       "DAYS_ID_PUBLISH                             0.051457\n",
       "OWN_CAR_AGE                                 0.037612\n",
       "FLAG_MOBIL                                  0.000534\n",
       "FLAG_EMP_PHONE                              0.045982\n",
       "FLAG_WORK_PHONE                             0.028524\n",
       "FLAG_CONT_MOBILE                            0.000370\n",
       "FLAG_PHONE                                 -0.023806\n",
       "FLAG_EMAIL                                 -0.001758\n",
       "CNT_FAM_MEMBERS                             0.009308\n",
       "REGION_RATING_CLIENT                        0.058899\n",
       "REGION_RATING_CLIENT_W_CITY                 0.060893\n",
       "HOUR_APPR_PROCESS_START                    -0.024166\n",
       "REG_REGION_NOT_LIVE_REGION                  0.005576\n",
       "REG_REGION_NOT_WORK_REGION                  0.006942\n",
       "LIVE_REGION_NOT_WORK_REGION                 0.002819\n",
       "REG_CITY_NOT_LIVE_CITY                      0.044395\n",
       "                                              ...   \n",
       "ORGANIZATION_TYPE_Trade: type 1             0.001032\n",
       "ORGANIZATION_TYPE_Trade: type 2            -0.003105\n",
       "ORGANIZATION_TYPE_Trade: type 3             0.008911\n",
       "ORGANIZATION_TYPE_Trade: type 4            -0.002621\n",
       "ORGANIZATION_TYPE_Trade: type 5            -0.000904\n",
       "ORGANIZATION_TYPE_Trade: type 6            -0.005788\n",
       "ORGANIZATION_TYPE_Trade: type 7             0.008170\n",
       "ORGANIZATION_TYPE_Transport: type 1        -0.003375\n",
       "ORGANIZATION_TYPE_Transport: type 2        -0.000839\n",
       "ORGANIZATION_TYPE_Transport: type 3         0.017552\n",
       "ORGANIZATION_TYPE_Transport: type 4         0.005929\n",
       "ORGANIZATION_TYPE_University               -0.007672\n",
       "ORGANIZATION_TYPE_XNA                      -0.045987\n",
       "FONDKAPREMONT_MODE_not specified           -0.002667\n",
       "FONDKAPREMONT_MODE_org spec account        -0.011285\n",
       "FONDKAPREMONT_MODE_reg oper account        -0.022587\n",
       "FONDKAPREMONT_MODE_reg oper spec account   -0.011257\n",
       "HOUSETYPE_MODE_block of flats              -0.040594\n",
       "HOUSETYPE_MODE_specific housing             0.005311\n",
       "HOUSETYPE_MODE_terraced house               0.000982\n",
       "WALLSMATERIAL_MODE_Block                   -0.006777\n",
       "WALLSMATERIAL_MODE_Mixed                   -0.001713\n",
       "WALLSMATERIAL_MODE_Monolithic              -0.009384\n",
       "WALLSMATERIAL_MODE_Others                   0.000628\n",
       "WALLSMATERIAL_MODE_Panel                   -0.033119\n",
       "WALLSMATERIAL_MODE_Stone, brick            -0.012657\n",
       "WALLSMATERIAL_MODE_Wooden                   0.007946\n",
       "EMERGENCYSTATE_MODE_No                     -0.042201\n",
       "EMERGENCYSTATE_MODE_Yes                     0.004829\n",
       "DAYS_EMPLOYED_ANOM                         -0.045987\n",
       "Name: TARGET, Length: 244, dtype: float64"
      ]
     },
     "execution_count": 3,
     "metadata": {},
     "output_type": "execute_result"
    }
   ],
   "source": [
    "app_train.corr()['TARGET']"
   ]
  },
  {
   "cell_type": "markdown",
   "metadata": {},
   "source": [
    "## 練習時間\n",
    "列出目標 (TARGET) 與所有欄位之間相關係數，數值最大以及最小各 15 個\n",
    "\n",
    "通過相關係數的結果觀察有興趣的欄位與 TARGET 或其他欄位的相關係數，並嘗試找出有趣的訊息\n",
    "- 最好的方式當然是畫圖，舉例來說，我們知道  EXT_SOURCE_3 這個欄位和 TARGET 之間的相關係數是 -0.178919 (在已經這個資料集已經是最負的了！)，那我們可以 EXT_SOURCE_3  為 x 軸， TARGET 為 y 軸，把資料給畫出來"
   ]
  },
  {
   "cell_type": "code",
   "execution_count": 7,
   "metadata": {
    "collapsed": true
   },
   "outputs": [
    {
     "name": "stdout",
     "output_type": "stream",
     "text": [
      "TARGET與所有欄位之間相關係數，數值最大15 個:\n",
      "TARGET                                               1.000000\n",
      "DAYS_EMPLOYED                                        0.074958\n",
      "REGION_RATING_CLIENT_W_CITY                          0.060893\n",
      "REGION_RATING_CLIENT                                 0.058899\n",
      "NAME_INCOME_TYPE_Working                             0.057481\n",
      "DAYS_LAST_PHONE_CHANGE                               0.055218\n",
      "CODE_GENDER_M                                        0.054713\n",
      "DAYS_ID_PUBLISH                                      0.051457\n",
      "REG_CITY_NOT_WORK_CITY                               0.050994\n",
      "NAME_EDUCATION_TYPE_Secondary / secondary special    0.049824\n",
      "FLAG_EMP_PHONE                                       0.045982\n",
      "REG_CITY_NOT_LIVE_CITY                               0.044395\n",
      "FLAG_DOCUMENT_3                                      0.044346\n",
      "OCCUPATION_TYPE_Laborers                             0.043019\n",
      "DAYS_REGISTRATION                                    0.041975\n",
      "Name: TARGET, dtype: float64\n",
      "CPU times: user 40.3 s, sys: 582 ms, total: 40.9 s\n",
      "Wall time: 40.9 s\n"
     ]
    }
   ],
   "source": [
    "%%time\n",
    "target_corr = app_train.corr()['TARGET']\n",
    "print('TARGET與所有欄位之間相關係數，數值最大15 個:')\n",
    "# target_corr是Series\n",
    "print(target_corr.sort_values(ascending=False).head(15))"
   ]
  },
  {
   "cell_type": "code",
   "execution_count": 8,
   "metadata": {},
   "outputs": [
    {
     "name": "stdout",
     "output_type": "stream",
     "text": [
      "TARGET與所有欄位之間相關係數，數值最小15 個\n",
      "EXT_SOURCE_3                           -0.178919\n",
      "EXT_SOURCE_2                           -0.160472\n",
      "EXT_SOURCE_1                           -0.155317\n",
      "DAYS_BIRTH                             -0.078239\n",
      "NAME_EDUCATION_TYPE_Higher education   -0.056593\n",
      "CODE_GENDER_F                          -0.054704\n",
      "NAME_INCOME_TYPE_Pensioner             -0.046209\n",
      "ORGANIZATION_TYPE_XNA                  -0.045987\n",
      "DAYS_EMPLOYED_ANOM                     -0.045987\n",
      "FLOORSMAX_AVG                          -0.044003\n",
      "FLOORSMAX_MEDI                         -0.043768\n",
      "FLOORSMAX_MODE                         -0.043226\n",
      "EMERGENCYSTATE_MODE_No                 -0.042201\n",
      "HOUSETYPE_MODE_block of flats          -0.040594\n",
      "AMT_GOODS_PRICE                        -0.039645\n",
      "Name: TARGET, dtype: float64\n",
      "CPU times: user 43.2 s, sys: 660 ms, total: 43.8 s\n",
      "Wall time: 43.9 s\n"
     ]
    }
   ],
   "source": [
    "%%time\n",
    "target_corr = app_train.corr()['TARGET']\n",
    "print('TARGET與所有欄位之間相關係數，數值最小15 個')\n",
    "print(target_corr.sort_values(ascending=True).head(15))"
   ]
  },
  {
   "cell_type": "markdown",
   "metadata": {},
   "source": [
    "### 圖示顯示"
   ]
  },
  {
   "cell_type": "code",
   "execution_count": null,
   "metadata": {},
   "outputs": [],
   "source": []
  }
 ],
 "metadata": {
  "kernelspec": {
   "display_name": "Python 3",
   "language": "python",
   "name": "python3"
  },
  "language_info": {
   "codemirror_mode": {
    "name": "ipython",
    "version": 3
   },
   "file_extension": ".py",
   "mimetype": "text/x-python",
   "name": "python",
   "nbconvert_exporter": "python",
   "pygments_lexer": "ipython3",
   "version": "3.5.5"
  }
 },
 "nbformat": 4,
 "nbformat_minor": 2
}
