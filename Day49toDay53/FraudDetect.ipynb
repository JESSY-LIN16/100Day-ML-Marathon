{
 "cells": [
  {
   "cell_type": "markdown",
   "metadata": {},
   "source": [
    "# 機器學習百日馬拉松期中考 - Enron Fraud Dataset 安隆公司詐欺案"
   ]
  },
  {
   "cell_type": "code",
   "execution_count": 1,
   "metadata": {},
   "outputs": [
    {
     "data": {
      "text/html": [
       "<div>\n",
       "<style scoped>\n",
       "    .dataframe tbody tr th:only-of-type {\n",
       "        vertical-align: middle;\n",
       "    }\n",
       "\n",
       "    .dataframe tbody tr th {\n",
       "        vertical-align: top;\n",
       "    }\n",
       "\n",
       "    .dataframe thead th {\n",
       "        text-align: right;\n",
       "    }\n",
       "</style>\n",
       "<table border=\"1\" class=\"dataframe\">\n",
       "  <thead>\n",
       "    <tr style=\"text-align: right;\">\n",
       "      <th></th>\n",
       "      <th>name</th>\n",
       "      <th>bonus</th>\n",
       "      <th>deferral_payments</th>\n",
       "      <th>deferred_income</th>\n",
       "      <th>director_fees</th>\n",
       "      <th>email_address</th>\n",
       "      <th>exercised_stock_options</th>\n",
       "      <th>expenses</th>\n",
       "      <th>from_messages</th>\n",
       "      <th>from_poi_to_this_person</th>\n",
       "      <th>...</th>\n",
       "      <th>long_term_incentive</th>\n",
       "      <th>other</th>\n",
       "      <th>poi</th>\n",
       "      <th>restricted_stock</th>\n",
       "      <th>restricted_stock_deferred</th>\n",
       "      <th>salary</th>\n",
       "      <th>shared_receipt_with_poi</th>\n",
       "      <th>to_messages</th>\n",
       "      <th>total_payments</th>\n",
       "      <th>total_stock_value</th>\n",
       "    </tr>\n",
       "  </thead>\n",
       "  <tbody>\n",
       "    <tr>\n",
       "      <th>0</th>\n",
       "      <td>RICE KENNETH D</td>\n",
       "      <td>1750000.0</td>\n",
       "      <td>NaN</td>\n",
       "      <td>-3504386.0</td>\n",
       "      <td>NaN</td>\n",
       "      <td>ken.rice@enron.com</td>\n",
       "      <td>19794175.0</td>\n",
       "      <td>46950.0</td>\n",
       "      <td>18.0</td>\n",
       "      <td>42.0</td>\n",
       "      <td>...</td>\n",
       "      <td>1617011.0</td>\n",
       "      <td>174839.0</td>\n",
       "      <td>True</td>\n",
       "      <td>2748364.0</td>\n",
       "      <td>NaN</td>\n",
       "      <td>420636.0</td>\n",
       "      <td>864.0</td>\n",
       "      <td>905.0</td>\n",
       "      <td>505050.0</td>\n",
       "      <td>22542539.0</td>\n",
       "    </tr>\n",
       "    <tr>\n",
       "      <th>1</th>\n",
       "      <td>SKILLING JEFFREY K</td>\n",
       "      <td>5600000.0</td>\n",
       "      <td>NaN</td>\n",
       "      <td>NaN</td>\n",
       "      <td>NaN</td>\n",
       "      <td>jeff.skilling@enron.com</td>\n",
       "      <td>19250000.0</td>\n",
       "      <td>29336.0</td>\n",
       "      <td>108.0</td>\n",
       "      <td>88.0</td>\n",
       "      <td>...</td>\n",
       "      <td>1920000.0</td>\n",
       "      <td>22122.0</td>\n",
       "      <td>True</td>\n",
       "      <td>6843672.0</td>\n",
       "      <td>NaN</td>\n",
       "      <td>1111258.0</td>\n",
       "      <td>2042.0</td>\n",
       "      <td>3627.0</td>\n",
       "      <td>8682716.0</td>\n",
       "      <td>26093672.0</td>\n",
       "    </tr>\n",
       "    <tr>\n",
       "      <th>2</th>\n",
       "      <td>SHELBY REX</td>\n",
       "      <td>200000.0</td>\n",
       "      <td>NaN</td>\n",
       "      <td>-4167.0</td>\n",
       "      <td>NaN</td>\n",
       "      <td>rex.shelby@enron.com</td>\n",
       "      <td>1624396.0</td>\n",
       "      <td>22884.0</td>\n",
       "      <td>39.0</td>\n",
       "      <td>13.0</td>\n",
       "      <td>...</td>\n",
       "      <td>NaN</td>\n",
       "      <td>1573324.0</td>\n",
       "      <td>True</td>\n",
       "      <td>869220.0</td>\n",
       "      <td>NaN</td>\n",
       "      <td>211844.0</td>\n",
       "      <td>91.0</td>\n",
       "      <td>225.0</td>\n",
       "      <td>2003885.0</td>\n",
       "      <td>2493616.0</td>\n",
       "    </tr>\n",
       "    <tr>\n",
       "      <th>3</th>\n",
       "      <td>KOPPER MICHAEL J</td>\n",
       "      <td>800000.0</td>\n",
       "      <td>NaN</td>\n",
       "      <td>NaN</td>\n",
       "      <td>NaN</td>\n",
       "      <td>michael.kopper@enron.com</td>\n",
       "      <td>NaN</td>\n",
       "      <td>118134.0</td>\n",
       "      <td>NaN</td>\n",
       "      <td>NaN</td>\n",
       "      <td>...</td>\n",
       "      <td>602671.0</td>\n",
       "      <td>907502.0</td>\n",
       "      <td>True</td>\n",
       "      <td>985032.0</td>\n",
       "      <td>NaN</td>\n",
       "      <td>224305.0</td>\n",
       "      <td>NaN</td>\n",
       "      <td>NaN</td>\n",
       "      <td>2652612.0</td>\n",
       "      <td>985032.0</td>\n",
       "    </tr>\n",
       "    <tr>\n",
       "      <th>4</th>\n",
       "      <td>CALGER CHRISTOPHER F</td>\n",
       "      <td>1250000.0</td>\n",
       "      <td>NaN</td>\n",
       "      <td>-262500.0</td>\n",
       "      <td>NaN</td>\n",
       "      <td>christopher.calger@enron.com</td>\n",
       "      <td>NaN</td>\n",
       "      <td>35818.0</td>\n",
       "      <td>144.0</td>\n",
       "      <td>199.0</td>\n",
       "      <td>...</td>\n",
       "      <td>375304.0</td>\n",
       "      <td>486.0</td>\n",
       "      <td>True</td>\n",
       "      <td>126027.0</td>\n",
       "      <td>NaN</td>\n",
       "      <td>240189.0</td>\n",
       "      <td>2188.0</td>\n",
       "      <td>2598.0</td>\n",
       "      <td>1639297.0</td>\n",
       "      <td>126027.0</td>\n",
       "    </tr>\n",
       "  </tbody>\n",
       "</table>\n",
       "<p>5 rows × 22 columns</p>\n",
       "</div>"
      ],
      "text/plain": [
       "                   name      bonus  deferral_payments  deferred_income  \\\n",
       "0        RICE KENNETH D  1750000.0                NaN       -3504386.0   \n",
       "1    SKILLING JEFFREY K  5600000.0                NaN              NaN   \n",
       "2            SHELBY REX   200000.0                NaN          -4167.0   \n",
       "3      KOPPER MICHAEL J   800000.0                NaN              NaN   \n",
       "4  CALGER CHRISTOPHER F  1250000.0                NaN        -262500.0   \n",
       "\n",
       "   director_fees                 email_address  exercised_stock_options  \\\n",
       "0            NaN            ken.rice@enron.com               19794175.0   \n",
       "1            NaN       jeff.skilling@enron.com               19250000.0   \n",
       "2            NaN          rex.shelby@enron.com                1624396.0   \n",
       "3            NaN      michael.kopper@enron.com                      NaN   \n",
       "4            NaN  christopher.calger@enron.com                      NaN   \n",
       "\n",
       "   expenses  from_messages  from_poi_to_this_person        ...          \\\n",
       "0   46950.0           18.0                     42.0        ...           \n",
       "1   29336.0          108.0                     88.0        ...           \n",
       "2   22884.0           39.0                     13.0        ...           \n",
       "3  118134.0            NaN                      NaN        ...           \n",
       "4   35818.0          144.0                    199.0        ...           \n",
       "\n",
       "   long_term_incentive      other   poi  restricted_stock  \\\n",
       "0            1617011.0   174839.0  True         2748364.0   \n",
       "1            1920000.0    22122.0  True         6843672.0   \n",
       "2                  NaN  1573324.0  True          869220.0   \n",
       "3             602671.0   907502.0  True          985032.0   \n",
       "4             375304.0      486.0  True          126027.0   \n",
       "\n",
       "   restricted_stock_deferred     salary  shared_receipt_with_poi  to_messages  \\\n",
       "0                        NaN   420636.0                    864.0        905.0   \n",
       "1                        NaN  1111258.0                   2042.0       3627.0   \n",
       "2                        NaN   211844.0                     91.0        225.0   \n",
       "3                        NaN   224305.0                      NaN          NaN   \n",
       "4                        NaN   240189.0                   2188.0       2598.0   \n",
       "\n",
       "   total_payments  total_stock_value  \n",
       "0        505050.0         22542539.0  \n",
       "1       8682716.0         26093672.0  \n",
       "2       2003885.0          2493616.0  \n",
       "3       2652612.0           985032.0  \n",
       "4       1639297.0           126027.0  \n",
       "\n",
       "[5 rows x 22 columns]"
      ]
     },
     "execution_count": 1,
     "metadata": {},
     "output_type": "execute_result"
    }
   ],
   "source": [
    "import numpy as np\n",
    "import pandas as pd\n",
    "\n",
    "# poi是label\n",
    "DF = pd.read_csv('train_data.csv')\n",
    "DF.head()"
   ]
  },
  {
   "cell_type": "markdown",
   "metadata": {},
   "source": [
    "資料只有113 rows"
   ]
  },
  {
   "cell_type": "code",
   "execution_count": 5,
   "metadata": {
    "collapsed": true,
    "jupyter": {
     "outputs_hidden": true
    }
   },
   "outputs": [
    {
     "name": "stdout",
     "output_type": "stream",
     "text": [
      "<class 'pandas.core.frame.DataFrame'>\n",
      "RangeIndex: 113 entries, 0 to 112\n",
      "Data columns (total 22 columns):\n",
      "name                         113 non-null object\n",
      "bonus                        61 non-null float64\n",
      "deferral_payments            28 non-null float64\n",
      "deferred_income              34 non-null float64\n",
      "director_fees                13 non-null float64\n",
      "email_address                83 non-null object\n",
      "exercised_stock_options      81 non-null float64\n",
      "expenses                     73 non-null float64\n",
      "from_messages                65 non-null float64\n",
      "from_poi_to_this_person      65 non-null float64\n",
      "from_this_person_to_poi      65 non-null float64\n",
      "loan_advances                2 non-null float64\n",
      "long_term_incentive          49 non-null float64\n",
      "other                        69 non-null float64\n",
      "poi                          113 non-null bool\n",
      "restricted_stock             82 non-null float64\n",
      "restricted_stock_deferred    10 non-null float64\n",
      "salary                       73 non-null float64\n",
      "shared_receipt_with_poi      65 non-null float64\n",
      "to_messages                  65 non-null float64\n",
      "total_payments               96 non-null float64\n",
      "total_stock_value            98 non-null float64\n",
      "dtypes: bool(1), float64(19), object(2)\n",
      "memory usage: 18.7+ KB\n"
     ]
    }
   ],
   "source": [
    "DF.info()"
   ]
  },
  {
   "cell_type": "markdown",
   "metadata": {},
   "source": [
    "與email相關的feature的標準差都較大，可能需要scaler"
   ]
  },
  {
   "cell_type": "code",
   "execution_count": 10,
   "metadata": {
    "collapsed": true,
    "jupyter": {
     "outputs_hidden": true
    }
   },
   "outputs": [
    {
     "data": {
      "text/html": [
       "<div>\n",
       "<style scoped>\n",
       "    .dataframe tbody tr th:only-of-type {\n",
       "        vertical-align: middle;\n",
       "    }\n",
       "\n",
       "    .dataframe tbody tr th {\n",
       "        vertical-align: top;\n",
       "    }\n",
       "\n",
       "    .dataframe thead th {\n",
       "        text-align: right;\n",
       "    }\n",
       "</style>\n",
       "<table border=\"1\" class=\"dataframe\">\n",
       "  <thead>\n",
       "    <tr style=\"text-align: right;\">\n",
       "      <th></th>\n",
       "      <th>bonus</th>\n",
       "      <th>deferral_payments</th>\n",
       "      <th>deferred_income</th>\n",
       "      <th>director_fees</th>\n",
       "      <th>exercised_stock_options</th>\n",
       "      <th>expenses</th>\n",
       "      <th>from_messages</th>\n",
       "      <th>from_poi_to_this_person</th>\n",
       "      <th>from_this_person_to_poi</th>\n",
       "      <th>loan_advances</th>\n",
       "      <th>long_term_incentive</th>\n",
       "      <th>other</th>\n",
       "      <th>restricted_stock</th>\n",
       "      <th>restricted_stock_deferred</th>\n",
       "      <th>salary</th>\n",
       "      <th>shared_receipt_with_poi</th>\n",
       "      <th>to_messages</th>\n",
       "      <th>total_payments</th>\n",
       "      <th>total_stock_value</th>\n",
       "    </tr>\n",
       "  </thead>\n",
       "  <tbody>\n",
       "    <tr>\n",
       "      <th>count</th>\n",
       "      <td>6.100000e+01</td>\n",
       "      <td>2.800000e+01</td>\n",
       "      <td>3.400000e+01</td>\n",
       "      <td>13.000000</td>\n",
       "      <td>8.100000e+01</td>\n",
       "      <td>73.000000</td>\n",
       "      <td>65.000000</td>\n",
       "      <td>65.000000</td>\n",
       "      <td>65.000000</td>\n",
       "      <td>2.000000e+00</td>\n",
       "      <td>4.900000e+01</td>\n",
       "      <td>6.900000e+01</td>\n",
       "      <td>8.200000e+01</td>\n",
       "      <td>10.000000</td>\n",
       "      <td>7.300000e+01</td>\n",
       "      <td>65.000000</td>\n",
       "      <td>65.000000</td>\n",
       "      <td>9.600000e+01</td>\n",
       "      <td>9.800000e+01</td>\n",
       "    </tr>\n",
       "    <tr>\n",
       "      <th>mean</th>\n",
       "      <td>1.147436e+06</td>\n",
       "      <td>6.344374e+05</td>\n",
       "      <td>-4.625664e+05</td>\n",
       "      <td>89397.846154</td>\n",
       "      <td>2.985081e+06</td>\n",
       "      <td>51040.547945</td>\n",
       "      <td>711.323077</td>\n",
       "      <td>64.800000</td>\n",
       "      <td>40.092308</td>\n",
       "      <td>4.096250e+07</td>\n",
       "      <td>7.926171e+05</td>\n",
       "      <td>4.471774e+05</td>\n",
       "      <td>1.294855e+06</td>\n",
       "      <td>-221885.700000</td>\n",
       "      <td>2.739025e+05</td>\n",
       "      <td>1111.369231</td>\n",
       "      <td>2156.061538</td>\n",
       "      <td>2.590977e+06</td>\n",
       "      <td>3.527136e+06</td>\n",
       "    </tr>\n",
       "    <tr>\n",
       "      <th>std</th>\n",
       "      <td>1.505189e+06</td>\n",
       "      <td>8.603646e+05</td>\n",
       "      <td>8.095392e+05</td>\n",
       "      <td>41143.391399</td>\n",
       "      <td>6.004174e+06</td>\n",
       "      <td>47596.682104</td>\n",
       "      <td>2074.497628</td>\n",
       "      <td>91.863214</td>\n",
       "      <td>88.901407</td>\n",
       "      <td>5.736404e+07</td>\n",
       "      <td>9.504645e+05</td>\n",
       "      <td>1.341564e+06</td>\n",
       "      <td>2.498335e+06</td>\n",
       "      <td>205191.374121</td>\n",
       "      <td>1.716647e+05</td>\n",
       "      <td>1165.852016</td>\n",
       "      <td>2811.676718</td>\n",
       "      <td>1.056645e+07</td>\n",
       "      <td>7.182997e+06</td>\n",
       "    </tr>\n",
       "    <tr>\n",
       "      <th>min</th>\n",
       "      <td>7.000000e+04</td>\n",
       "      <td>-1.025000e+05</td>\n",
       "      <td>-3.504386e+06</td>\n",
       "      <td>3285.000000</td>\n",
       "      <td>3.285000e+03</td>\n",
       "      <td>148.000000</td>\n",
       "      <td>12.000000</td>\n",
       "      <td>0.000000</td>\n",
       "      <td>0.000000</td>\n",
       "      <td>4.000000e+05</td>\n",
       "      <td>7.102300e+04</td>\n",
       "      <td>2.000000e+00</td>\n",
       "      <td>4.409300e+04</td>\n",
       "      <td>-560222.000000</td>\n",
       "      <td>4.770000e+02</td>\n",
       "      <td>2.000000</td>\n",
       "      <td>57.000000</td>\n",
       "      <td>1.480000e+02</td>\n",
       "      <td>-4.409300e+04</td>\n",
       "    </tr>\n",
       "    <tr>\n",
       "      <th>25%</th>\n",
       "      <td>4.500000e+05</td>\n",
       "      <td>7.656750e+04</td>\n",
       "      <td>-5.527032e+05</td>\n",
       "      <td>101250.000000</td>\n",
       "      <td>4.004780e+05</td>\n",
       "      <td>18834.000000</td>\n",
       "      <td>19.000000</td>\n",
       "      <td>10.000000</td>\n",
       "      <td>0.000000</td>\n",
       "      <td>2.068125e+07</td>\n",
       "      <td>2.750000e+05</td>\n",
       "      <td>9.720000e+02</td>\n",
       "      <td>2.689220e+05</td>\n",
       "      <td>-389621.750000</td>\n",
       "      <td>2.061210e+05</td>\n",
       "      <td>178.000000</td>\n",
       "      <td>517.000000</td>\n",
       "      <td>3.024025e+05</td>\n",
       "      <td>4.211518e+05</td>\n",
       "    </tr>\n",
       "    <tr>\n",
       "      <th>50%</th>\n",
       "      <td>7.500000e+05</td>\n",
       "      <td>1.951900e+05</td>\n",
       "      <td>-1.175340e+05</td>\n",
       "      <td>108579.000000</td>\n",
       "      <td>8.500100e+05</td>\n",
       "      <td>41953.000000</td>\n",
       "      <td>45.000000</td>\n",
       "      <td>28.000000</td>\n",
       "      <td>7.000000</td>\n",
       "      <td>4.096250e+07</td>\n",
       "      <td>4.221580e+05</td>\n",
       "      <td>5.238200e+04</td>\n",
       "      <td>4.628225e+05</td>\n",
       "      <td>-139856.500000</td>\n",
       "      <td>2.516540e+05</td>\n",
       "      <td>599.000000</td>\n",
       "      <td>1088.000000</td>\n",
       "      <td>1.106740e+06</td>\n",
       "      <td>9.979710e+05</td>\n",
       "    </tr>\n",
       "    <tr>\n",
       "      <th>75%</th>\n",
       "      <td>1.000000e+06</td>\n",
       "      <td>8.342052e+05</td>\n",
       "      <td>-2.708325e+04</td>\n",
       "      <td>112492.000000</td>\n",
       "      <td>2.165172e+06</td>\n",
       "      <td>59175.000000</td>\n",
       "      <td>215.000000</td>\n",
       "      <td>88.000000</td>\n",
       "      <td>27.000000</td>\n",
       "      <td>6.124375e+07</td>\n",
       "      <td>8.318090e+05</td>\n",
       "      <td>3.620960e+05</td>\n",
       "      <td>9.664905e+05</td>\n",
       "      <td>-77953.250000</td>\n",
       "      <td>2.885890e+05</td>\n",
       "      <td>1902.000000</td>\n",
       "      <td>2649.000000</td>\n",
       "      <td>1.985668e+06</td>\n",
       "      <td>2.493616e+06</td>\n",
       "    </tr>\n",
       "    <tr>\n",
       "      <th>max</th>\n",
       "      <td>8.000000e+06</td>\n",
       "      <td>2.964506e+06</td>\n",
       "      <td>-1.042000e+03</td>\n",
       "      <td>125034.000000</td>\n",
       "      <td>3.434838e+07</td>\n",
       "      <td>228763.000000</td>\n",
       "      <td>14368.000000</td>\n",
       "      <td>528.000000</td>\n",
       "      <td>411.000000</td>\n",
       "      <td>8.152500e+07</td>\n",
       "      <td>5.145434e+06</td>\n",
       "      <td>1.035973e+07</td>\n",
       "      <td>1.476169e+07</td>\n",
       "      <td>44093.000000</td>\n",
       "      <td>1.111258e+06</td>\n",
       "      <td>4527.000000</td>\n",
       "      <td>15149.000000</td>\n",
       "      <td>1.035598e+08</td>\n",
       "      <td>4.911008e+07</td>\n",
       "    </tr>\n",
       "  </tbody>\n",
       "</table>\n",
       "</div>"
      ],
      "text/plain": [
       "              bonus  deferral_payments  deferred_income  director_fees  \\\n",
       "count  6.100000e+01       2.800000e+01     3.400000e+01      13.000000   \n",
       "mean   1.147436e+06       6.344374e+05    -4.625664e+05   89397.846154   \n",
       "std    1.505189e+06       8.603646e+05     8.095392e+05   41143.391399   \n",
       "min    7.000000e+04      -1.025000e+05    -3.504386e+06    3285.000000   \n",
       "25%    4.500000e+05       7.656750e+04    -5.527032e+05  101250.000000   \n",
       "50%    7.500000e+05       1.951900e+05    -1.175340e+05  108579.000000   \n",
       "75%    1.000000e+06       8.342052e+05    -2.708325e+04  112492.000000   \n",
       "max    8.000000e+06       2.964506e+06    -1.042000e+03  125034.000000   \n",
       "\n",
       "       exercised_stock_options       expenses  from_messages  \\\n",
       "count             8.100000e+01      73.000000      65.000000   \n",
       "mean              2.985081e+06   51040.547945     711.323077   \n",
       "std               6.004174e+06   47596.682104    2074.497628   \n",
       "min               3.285000e+03     148.000000      12.000000   \n",
       "25%               4.004780e+05   18834.000000      19.000000   \n",
       "50%               8.500100e+05   41953.000000      45.000000   \n",
       "75%               2.165172e+06   59175.000000     215.000000   \n",
       "max               3.434838e+07  228763.000000   14368.000000   \n",
       "\n",
       "       from_poi_to_this_person  from_this_person_to_poi  loan_advances  \\\n",
       "count                65.000000                65.000000   2.000000e+00   \n",
       "mean                 64.800000                40.092308   4.096250e+07   \n",
       "std                  91.863214                88.901407   5.736404e+07   \n",
       "min                   0.000000                 0.000000   4.000000e+05   \n",
       "25%                  10.000000                 0.000000   2.068125e+07   \n",
       "50%                  28.000000                 7.000000   4.096250e+07   \n",
       "75%                  88.000000                27.000000   6.124375e+07   \n",
       "max                 528.000000               411.000000   8.152500e+07   \n",
       "\n",
       "       long_term_incentive         other  restricted_stock  \\\n",
       "count         4.900000e+01  6.900000e+01      8.200000e+01   \n",
       "mean          7.926171e+05  4.471774e+05      1.294855e+06   \n",
       "std           9.504645e+05  1.341564e+06      2.498335e+06   \n",
       "min           7.102300e+04  2.000000e+00      4.409300e+04   \n",
       "25%           2.750000e+05  9.720000e+02      2.689220e+05   \n",
       "50%           4.221580e+05  5.238200e+04      4.628225e+05   \n",
       "75%           8.318090e+05  3.620960e+05      9.664905e+05   \n",
       "max           5.145434e+06  1.035973e+07      1.476169e+07   \n",
       "\n",
       "       restricted_stock_deferred        salary  shared_receipt_with_poi  \\\n",
       "count                  10.000000  7.300000e+01                65.000000   \n",
       "mean              -221885.700000  2.739025e+05              1111.369231   \n",
       "std                205191.374121  1.716647e+05              1165.852016   \n",
       "min               -560222.000000  4.770000e+02                 2.000000   \n",
       "25%               -389621.750000  2.061210e+05               178.000000   \n",
       "50%               -139856.500000  2.516540e+05               599.000000   \n",
       "75%                -77953.250000  2.885890e+05              1902.000000   \n",
       "max                 44093.000000  1.111258e+06              4527.000000   \n",
       "\n",
       "        to_messages  total_payments  total_stock_value  \n",
       "count     65.000000    9.600000e+01       9.800000e+01  \n",
       "mean    2156.061538    2.590977e+06       3.527136e+06  \n",
       "std     2811.676718    1.056645e+07       7.182997e+06  \n",
       "min       57.000000    1.480000e+02      -4.409300e+04  \n",
       "25%      517.000000    3.024025e+05       4.211518e+05  \n",
       "50%     1088.000000    1.106740e+06       9.979710e+05  \n",
       "75%     2649.000000    1.985668e+06       2.493616e+06  \n",
       "max    15149.000000    1.035598e+08       4.911008e+07  "
      ]
     },
     "execution_count": 10,
     "metadata": {},
     "output_type": "execute_result"
    }
   ],
   "source": [
    "DF.describe()"
   ]
  },
  {
   "cell_type": "markdown",
   "metadata": {},
   "source": [
    "### 檢查缺失值"
   ]
  },
  {
   "cell_type": "code",
   "execution_count": 4,
   "metadata": {},
   "outputs": [
    {
     "data": {
      "text/plain": [
       "name                           0\n",
       "bonus                         52\n",
       "deferral_payments             85\n",
       "deferred_income               79\n",
       "director_fees                100\n",
       "email_address                 30\n",
       "exercised_stock_options       32\n",
       "expenses                      40\n",
       "from_messages                 48\n",
       "from_poi_to_this_person       48\n",
       "from_this_person_to_poi       48\n",
       "loan_advances                111\n",
       "long_term_incentive           64\n",
       "other                         44\n",
       "poi                            0\n",
       "restricted_stock              31\n",
       "restricted_stock_deferred    103\n",
       "salary                        40\n",
       "shared_receipt_with_poi       48\n",
       "to_messages                   48\n",
       "total_payments                17\n",
       "total_stock_value             15\n",
       "dtype: int64"
      ]
     },
     "execution_count": 4,
     "metadata": {},
     "output_type": "execute_result"
    }
   ],
   "source": [
    "DF.isnull().sum()"
   ]
  },
  {
   "cell_type": "markdown",
   "metadata": {},
   "source": [
    "### 資料缺失過多的欄位將予以拋棄，ＥＸ：\n",
    "* loan_advances                缺111\n",
    "* director_fees                缺100\n",
    "* restricted_stock_deferred    缺103"
   ]
  },
  {
   "cell_type": "markdown",
   "metadata": {},
   "source": [
    "選feature"
   ]
  },
  {
   "cell_type": "code",
   "execution_count": 2,
   "metadata": {},
   "outputs": [
    {
     "data": {
      "text/html": [
       "<div>\n",
       "<style scoped>\n",
       "    .dataframe tbody tr th:only-of-type {\n",
       "        vertical-align: middle;\n",
       "    }\n",
       "\n",
       "    .dataframe tbody tr th {\n",
       "        vertical-align: top;\n",
       "    }\n",
       "\n",
       "    .dataframe thead th {\n",
       "        text-align: right;\n",
       "    }\n",
       "</style>\n",
       "<table border=\"1\" class=\"dataframe\">\n",
       "  <thead>\n",
       "    <tr style=\"text-align: right;\">\n",
       "      <th></th>\n",
       "      <th>name</th>\n",
       "      <th>bonus</th>\n",
       "      <th>email_address</th>\n",
       "      <th>exercised_stock_options</th>\n",
       "      <th>expenses</th>\n",
       "      <th>from_messages</th>\n",
       "      <th>from_poi_to_this_person</th>\n",
       "      <th>from_this_person_to_poi</th>\n",
       "      <th>long_term_incentive</th>\n",
       "      <th>other</th>\n",
       "      <th>poi</th>\n",
       "      <th>restricted_stock</th>\n",
       "      <th>salary</th>\n",
       "      <th>shared_receipt_with_poi</th>\n",
       "      <th>to_messages</th>\n",
       "      <th>total_payments</th>\n",
       "      <th>total_stock_value</th>\n",
       "    </tr>\n",
       "  </thead>\n",
       "  <tbody>\n",
       "    <tr>\n",
       "      <th>0</th>\n",
       "      <td>RICE KENNETH D</td>\n",
       "      <td>1750000.0</td>\n",
       "      <td>ken.rice@enron.com</td>\n",
       "      <td>19794175.0</td>\n",
       "      <td>46950.0</td>\n",
       "      <td>18.0</td>\n",
       "      <td>42.0</td>\n",
       "      <td>4.0</td>\n",
       "      <td>1617011.0</td>\n",
       "      <td>174839.0</td>\n",
       "      <td>True</td>\n",
       "      <td>2748364.0</td>\n",
       "      <td>420636.0</td>\n",
       "      <td>864.0</td>\n",
       "      <td>905.0</td>\n",
       "      <td>505050.0</td>\n",
       "      <td>22542539.0</td>\n",
       "    </tr>\n",
       "    <tr>\n",
       "      <th>1</th>\n",
       "      <td>SKILLING JEFFREY K</td>\n",
       "      <td>5600000.0</td>\n",
       "      <td>jeff.skilling@enron.com</td>\n",
       "      <td>19250000.0</td>\n",
       "      <td>29336.0</td>\n",
       "      <td>108.0</td>\n",
       "      <td>88.0</td>\n",
       "      <td>30.0</td>\n",
       "      <td>1920000.0</td>\n",
       "      <td>22122.0</td>\n",
       "      <td>True</td>\n",
       "      <td>6843672.0</td>\n",
       "      <td>1111258.0</td>\n",
       "      <td>2042.0</td>\n",
       "      <td>3627.0</td>\n",
       "      <td>8682716.0</td>\n",
       "      <td>26093672.0</td>\n",
       "    </tr>\n",
       "    <tr>\n",
       "      <th>2</th>\n",
       "      <td>SHELBY REX</td>\n",
       "      <td>200000.0</td>\n",
       "      <td>rex.shelby@enron.com</td>\n",
       "      <td>1624396.0</td>\n",
       "      <td>22884.0</td>\n",
       "      <td>39.0</td>\n",
       "      <td>13.0</td>\n",
       "      <td>14.0</td>\n",
       "      <td>NaN</td>\n",
       "      <td>1573324.0</td>\n",
       "      <td>True</td>\n",
       "      <td>869220.0</td>\n",
       "      <td>211844.0</td>\n",
       "      <td>91.0</td>\n",
       "      <td>225.0</td>\n",
       "      <td>2003885.0</td>\n",
       "      <td>2493616.0</td>\n",
       "    </tr>\n",
       "    <tr>\n",
       "      <th>3</th>\n",
       "      <td>KOPPER MICHAEL J</td>\n",
       "      <td>800000.0</td>\n",
       "      <td>michael.kopper@enron.com</td>\n",
       "      <td>NaN</td>\n",
       "      <td>118134.0</td>\n",
       "      <td>NaN</td>\n",
       "      <td>NaN</td>\n",
       "      <td>NaN</td>\n",
       "      <td>602671.0</td>\n",
       "      <td>907502.0</td>\n",
       "      <td>True</td>\n",
       "      <td>985032.0</td>\n",
       "      <td>224305.0</td>\n",
       "      <td>NaN</td>\n",
       "      <td>NaN</td>\n",
       "      <td>2652612.0</td>\n",
       "      <td>985032.0</td>\n",
       "    </tr>\n",
       "    <tr>\n",
       "      <th>4</th>\n",
       "      <td>CALGER CHRISTOPHER F</td>\n",
       "      <td>1250000.0</td>\n",
       "      <td>christopher.calger@enron.com</td>\n",
       "      <td>NaN</td>\n",
       "      <td>35818.0</td>\n",
       "      <td>144.0</td>\n",
       "      <td>199.0</td>\n",
       "      <td>25.0</td>\n",
       "      <td>375304.0</td>\n",
       "      <td>486.0</td>\n",
       "      <td>True</td>\n",
       "      <td>126027.0</td>\n",
       "      <td>240189.0</td>\n",
       "      <td>2188.0</td>\n",
       "      <td>2598.0</td>\n",
       "      <td>1639297.0</td>\n",
       "      <td>126027.0</td>\n",
       "    </tr>\n",
       "  </tbody>\n",
       "</table>\n",
       "</div>"
      ],
      "text/plain": [
       "                   name      bonus                 email_address  \\\n",
       "0        RICE KENNETH D  1750000.0            ken.rice@enron.com   \n",
       "1    SKILLING JEFFREY K  5600000.0       jeff.skilling@enron.com   \n",
       "2            SHELBY REX   200000.0          rex.shelby@enron.com   \n",
       "3      KOPPER MICHAEL J   800000.0      michael.kopper@enron.com   \n",
       "4  CALGER CHRISTOPHER F  1250000.0  christopher.calger@enron.com   \n",
       "\n",
       "   exercised_stock_options  expenses  from_messages  from_poi_to_this_person  \\\n",
       "0               19794175.0   46950.0           18.0                     42.0   \n",
       "1               19250000.0   29336.0          108.0                     88.0   \n",
       "2                1624396.0   22884.0           39.0                     13.0   \n",
       "3                      NaN  118134.0            NaN                      NaN   \n",
       "4                      NaN   35818.0          144.0                    199.0   \n",
       "\n",
       "   from_this_person_to_poi  long_term_incentive      other   poi  \\\n",
       "0                      4.0            1617011.0   174839.0  True   \n",
       "1                     30.0            1920000.0    22122.0  True   \n",
       "2                     14.0                  NaN  1573324.0  True   \n",
       "3                      NaN             602671.0   907502.0  True   \n",
       "4                     25.0             375304.0      486.0  True   \n",
       "\n",
       "   restricted_stock     salary  shared_receipt_with_poi  to_messages  \\\n",
       "0         2748364.0   420636.0                    864.0        905.0   \n",
       "1         6843672.0  1111258.0                   2042.0       3627.0   \n",
       "2          869220.0   211844.0                     91.0        225.0   \n",
       "3          985032.0   224305.0                      NaN          NaN   \n",
       "4          126027.0   240189.0                   2188.0       2598.0   \n",
       "\n",
       "   total_payments  total_stock_value  \n",
       "0        505050.0         22542539.0  \n",
       "1       8682716.0         26093672.0  \n",
       "2       2003885.0          2493616.0  \n",
       "3       2652612.0           985032.0  \n",
       "4       1639297.0           126027.0  "
      ]
     },
     "execution_count": 2,
     "metadata": {},
     "output_type": "execute_result"
    }
   ],
   "source": [
    "x = DF.drop(axis=1, columns=['loan_advances', 'restricted_stock_deferred', 'director_fees', 'deferral_payments', 'deferred_income'])\n",
    "x.head()"
   ]
  },
  {
   "cell_type": "markdown",
   "metadata": {},
   "source": [
    "檢查有沒有整筆是空的資料，若有整筆資料予以移除"
   ]
  },
  {
   "cell_type": "code",
   "execution_count": 3,
   "metadata": {},
   "outputs": [
    {
     "data": {
      "text/html": [
       "<div>\n",
       "<style scoped>\n",
       "    .dataframe tbody tr th:only-of-type {\n",
       "        vertical-align: middle;\n",
       "    }\n",
       "\n",
       "    .dataframe tbody tr th {\n",
       "        vertical-align: top;\n",
       "    }\n",
       "\n",
       "    .dataframe thead th {\n",
       "        text-align: right;\n",
       "    }\n",
       "</style>\n",
       "<table border=\"1\" class=\"dataframe\">\n",
       "  <thead>\n",
       "    <tr style=\"text-align: right;\">\n",
       "      <th></th>\n",
       "      <th>name</th>\n",
       "      <th>bonus</th>\n",
       "      <th>email_address</th>\n",
       "      <th>exercised_stock_options</th>\n",
       "      <th>expenses</th>\n",
       "      <th>from_messages</th>\n",
       "      <th>from_poi_to_this_person</th>\n",
       "      <th>from_this_person_to_poi</th>\n",
       "      <th>long_term_incentive</th>\n",
       "      <th>other</th>\n",
       "      <th>restricted_stock</th>\n",
       "      <th>salary</th>\n",
       "      <th>shared_receipt_with_poi</th>\n",
       "      <th>to_messages</th>\n",
       "      <th>total_payments</th>\n",
       "      <th>total_stock_value</th>\n",
       "    </tr>\n",
       "  </thead>\n",
       "  <tbody>\n",
       "  </tbody>\n",
       "</table>\n",
       "</div>"
      ],
      "text/plain": [
       "Empty DataFrame\n",
       "Columns: [name, bonus, email_address, exercised_stock_options, expenses, from_messages, from_poi_to_this_person, from_this_person_to_poi, long_term_incentive, other, restricted_stock, salary, shared_receipt_with_poi, to_messages, total_payments, total_stock_value]\n",
       "Index: []"
      ]
     },
     "execution_count": 3,
     "metadata": {},
     "output_type": "execute_result"
    }
   ],
   "source": [
    "x[x.isnull().all(axis=1)]"
   ]
  },
  {
   "cell_type": "markdown",
   "metadata": {},
   "source": [
    "根據poi是true還是flase來補有關email的訊息"
   ]
  },
  {
   "cell_type": "code",
   "execution_count": 4,
   "metadata": {},
   "outputs": [],
   "source": [
    "from sklearn.preprocessing import Imputer\n",
    "email_features = ['to_messages', 'from_messages', 'from_this_person_to_poi', 'from_poi_to_this_person']\n",
    "\n",
    "imp = Imputer(missing_values='NaN', strategy='median', axis=0)\n",
    "\n",
    "DF.loc[DF[DF.poi == 1].index,email_features] = imp.fit_transform(DF[email_features][DF.poi == 1])\n",
    "DF.loc[DF[DF.poi == 0].index,email_features] = imp.fit_transform(DF[email_features][DF.poi == 0])"
   ]
  },
  {
   "cell_type": "markdown",
   "metadata": {},
   "source": [
    "用均值補空值"
   ]
  },
  {
   "cell_type": "code",
   "execution_count": 3,
   "metadata": {},
   "outputs": [
    {
     "name": "stdout",
     "output_type": "stream",
     "text": [
      "14 Numeric Features : ['bonus', 'exercised_stock_options', 'expenses', 'from_messages', 'from_poi_to_this_person', 'from_this_person_to_poi', 'long_term_incentive', 'other', 'restricted_stock', 'salary', 'shared_receipt_with_poi', 'to_messages', 'total_payments', 'total_stock_value']\n",
      "\n"
     ]
    }
   ],
   "source": [
    "# 針對數值形態的 (先選出數值形態的)\n",
    "num_features = []\n",
    "str_features = []\n",
    "for dtype, feature in zip(x.dtypes, x.columns):\n",
    "    if dtype == 'float64' or dtype == 'int64':\n",
    "        num_features.append(feature)\n",
    "    else:\n",
    "        str_features.append(feature)\n",
    "print('{} Numeric Features : {}\\n'.format(len(num_features), num_features))\n",
    "x_num = x[num_features]\n",
    "x_str = x[str_features]\n",
    "\n",
    "# 補平均值\n",
    "x_num = x_num.fillna(x_num.mean())\n",
    "# x_num = x_num.fillna(0)"
   ]
  },
  {
   "cell_type": "code",
   "execution_count": 3,
   "metadata": {},
   "outputs": [
    {
     "name": "stdout",
     "output_type": "stream",
     "text": [
      "<__main__.DataFrameImputer object at 0x108581a90>\n"
     ]
    },
    {
     "data": {
      "text/html": [
       "<div>\n",
       "<style scoped>\n",
       "    .dataframe tbody tr th:only-of-type {\n",
       "        vertical-align: middle;\n",
       "    }\n",
       "\n",
       "    .dataframe tbody tr th {\n",
       "        vertical-align: top;\n",
       "    }\n",
       "\n",
       "    .dataframe thead th {\n",
       "        text-align: right;\n",
       "    }\n",
       "</style>\n",
       "<table border=\"1\" class=\"dataframe\">\n",
       "  <thead>\n",
       "    <tr style=\"text-align: right;\">\n",
       "      <th></th>\n",
       "      <th>name</th>\n",
       "      <th>bonus</th>\n",
       "      <th>email_address</th>\n",
       "      <th>exercised_stock_options</th>\n",
       "      <th>expenses</th>\n",
       "      <th>from_messages</th>\n",
       "      <th>from_poi_to_this_person</th>\n",
       "      <th>from_this_person_to_poi</th>\n",
       "      <th>long_term_incentive</th>\n",
       "      <th>other</th>\n",
       "      <th>restricted_stock</th>\n",
       "      <th>salary</th>\n",
       "      <th>shared_receipt_with_poi</th>\n",
       "      <th>to_messages</th>\n",
       "      <th>total_payments</th>\n",
       "      <th>total_stock_value</th>\n",
       "    </tr>\n",
       "  </thead>\n",
       "  <tbody>\n",
       "    <tr>\n",
       "      <th>0</th>\n",
       "      <td>RICE KENNETH D</td>\n",
       "      <td>1750000.0</td>\n",
       "      <td>ken.rice@enron.com</td>\n",
       "      <td>1.979418e+07</td>\n",
       "      <td>46950.0</td>\n",
       "      <td>18.000000</td>\n",
       "      <td>42.0</td>\n",
       "      <td>4.000000</td>\n",
       "      <td>1.617011e+06</td>\n",
       "      <td>174839.0</td>\n",
       "      <td>2748364.0</td>\n",
       "      <td>420636.0</td>\n",
       "      <td>864.000000</td>\n",
       "      <td>905.000000</td>\n",
       "      <td>505050.0</td>\n",
       "      <td>22542539.0</td>\n",
       "    </tr>\n",
       "    <tr>\n",
       "      <th>1</th>\n",
       "      <td>SKILLING JEFFREY K</td>\n",
       "      <td>5600000.0</td>\n",
       "      <td>jeff.skilling@enron.com</td>\n",
       "      <td>1.925000e+07</td>\n",
       "      <td>29336.0</td>\n",
       "      <td>108.000000</td>\n",
       "      <td>88.0</td>\n",
       "      <td>30.000000</td>\n",
       "      <td>1.920000e+06</td>\n",
       "      <td>22122.0</td>\n",
       "      <td>6843672.0</td>\n",
       "      <td>1111258.0</td>\n",
       "      <td>2042.000000</td>\n",
       "      <td>3627.000000</td>\n",
       "      <td>8682716.0</td>\n",
       "      <td>26093672.0</td>\n",
       "    </tr>\n",
       "    <tr>\n",
       "      <th>2</th>\n",
       "      <td>SHELBY REX</td>\n",
       "      <td>200000.0</td>\n",
       "      <td>rex.shelby@enron.com</td>\n",
       "      <td>1.624396e+06</td>\n",
       "      <td>22884.0</td>\n",
       "      <td>39.000000</td>\n",
       "      <td>13.0</td>\n",
       "      <td>14.000000</td>\n",
       "      <td>7.926171e+05</td>\n",
       "      <td>1573324.0</td>\n",
       "      <td>869220.0</td>\n",
       "      <td>211844.0</td>\n",
       "      <td>91.000000</td>\n",
       "      <td>225.000000</td>\n",
       "      <td>2003885.0</td>\n",
       "      <td>2493616.0</td>\n",
       "    </tr>\n",
       "    <tr>\n",
       "      <th>3</th>\n",
       "      <td>KOPPER MICHAEL J</td>\n",
       "      <td>800000.0</td>\n",
       "      <td>michael.kopper@enron.com</td>\n",
       "      <td>2.985081e+06</td>\n",
       "      <td>118134.0</td>\n",
       "      <td>711.323077</td>\n",
       "      <td>64.8</td>\n",
       "      <td>40.092308</td>\n",
       "      <td>6.026710e+05</td>\n",
       "      <td>907502.0</td>\n",
       "      <td>985032.0</td>\n",
       "      <td>224305.0</td>\n",
       "      <td>1111.369231</td>\n",
       "      <td>2156.061538</td>\n",
       "      <td>2652612.0</td>\n",
       "      <td>985032.0</td>\n",
       "    </tr>\n",
       "    <tr>\n",
       "      <th>4</th>\n",
       "      <td>CALGER CHRISTOPHER F</td>\n",
       "      <td>1250000.0</td>\n",
       "      <td>christopher.calger@enron.com</td>\n",
       "      <td>2.985081e+06</td>\n",
       "      <td>35818.0</td>\n",
       "      <td>144.000000</td>\n",
       "      <td>199.0</td>\n",
       "      <td>25.000000</td>\n",
       "      <td>3.753040e+05</td>\n",
       "      <td>486.0</td>\n",
       "      <td>126027.0</td>\n",
       "      <td>240189.0</td>\n",
       "      <td>2188.000000</td>\n",
       "      <td>2598.000000</td>\n",
       "      <td>1639297.0</td>\n",
       "      <td>126027.0</td>\n",
       "    </tr>\n",
       "  </tbody>\n",
       "</table>\n",
       "</div>"
      ],
      "text/plain": [
       "                   name      bonus                 email_address  \\\n",
       "0        RICE KENNETH D  1750000.0            ken.rice@enron.com   \n",
       "1    SKILLING JEFFREY K  5600000.0       jeff.skilling@enron.com   \n",
       "2            SHELBY REX   200000.0          rex.shelby@enron.com   \n",
       "3      KOPPER MICHAEL J   800000.0      michael.kopper@enron.com   \n",
       "4  CALGER CHRISTOPHER F  1250000.0  christopher.calger@enron.com   \n",
       "\n",
       "   exercised_stock_options  expenses  from_messages  from_poi_to_this_person  \\\n",
       "0             1.979418e+07   46950.0      18.000000                     42.0   \n",
       "1             1.925000e+07   29336.0     108.000000                     88.0   \n",
       "2             1.624396e+06   22884.0      39.000000                     13.0   \n",
       "3             2.985081e+06  118134.0     711.323077                     64.8   \n",
       "4             2.985081e+06   35818.0     144.000000                    199.0   \n",
       "\n",
       "   from_this_person_to_poi  long_term_incentive      other  restricted_stock  \\\n",
       "0                 4.000000         1.617011e+06   174839.0         2748364.0   \n",
       "1                30.000000         1.920000e+06    22122.0         6843672.0   \n",
       "2                14.000000         7.926171e+05  1573324.0          869220.0   \n",
       "3                40.092308         6.026710e+05   907502.0          985032.0   \n",
       "4                25.000000         3.753040e+05      486.0          126027.0   \n",
       "\n",
       "      salary  shared_receipt_with_poi  to_messages  total_payments  \\\n",
       "0   420636.0               864.000000   905.000000        505050.0   \n",
       "1  1111258.0              2042.000000  3627.000000       8682716.0   \n",
       "2   211844.0                91.000000   225.000000       2003885.0   \n",
       "3   224305.0              1111.369231  2156.061538       2652612.0   \n",
       "4   240189.0              2188.000000  2598.000000       1639297.0   \n",
       "\n",
       "   total_stock_value  \n",
       "0         22542539.0  \n",
       "1         26093672.0  \n",
       "2          2493616.0  \n",
       "3           985032.0  \n",
       "4           126027.0  "
      ]
     },
     "execution_count": 3,
     "metadata": {},
     "output_type": "execute_result"
    }
   ],
   "source": [
    "# 客製imputer, 可以同時處理字串跟數值類型, ref: https://stackoverflow.com/questions/25239958/impute-categorical-missing-values-in-scikit-learn\n",
    "from sklearn.base import TransformerMixin\n",
    "\n",
    "class DataFrameImputer(TransformerMixin):\n",
    "\n",
    "    def __init__(self):\n",
    "        \"\"\"Impute missing values.\n",
    "\n",
    "        Columns of dtype object are imputed with the most frequent value \n",
    "        in column.\n",
    "\n",
    "        Columns of other types are imputed with mean of column.\n",
    "\n",
    "        \"\"\"\n",
    "    def fit(self, X, y=None):\n",
    "\n",
    "        self.fill = pd.Series([X[c].value_counts().index[0]\n",
    "            if X[c].dtype == np.dtype('O') else X[c].mean() for c in X],\n",
    "            index=X.columns)\n",
    "\n",
    "        return self\n",
    "\n",
    "    def transform(self, X, y=None):\n",
    "        return X.fillna(self.fill)\n",
    "    \n",
    "\n",
    "imputer = DataFrameImputer()\n",
    "imp = imputer.fit(x)\n",
    "print(imp)\n",
    "x = imp.transform(x)\n",
    "imp.transform(x).head()"
   ]
  },
  {
   "cell_type": "markdown",
   "metadata": {},
   "source": [
    "### 自行創建feature"
   ]
  },
  {
   "cell_type": "code",
   "execution_count": 5,
   "metadata": {},
   "outputs": [],
   "source": [
    "x_num['fraction_to_poi'] = x_num['from_this_person_to_poi']/x_num['from_messages']\n",
    "x_num = x_num.replace('inf', 0)"
   ]
  },
  {
   "cell_type": "code",
   "execution_count": 4,
   "metadata": {},
   "outputs": [],
   "source": [
    "data = x.copy()\n",
    "\n",
    "data = data.drop(axis=1, columns=['email_address', 'name', 'poi'])\n",
    "\n",
    "data.loc[:, \"salary_p\"] = data.loc[:, \"salary\"]/data.loc[:, \"total_payments\"]\n",
    "# data.loc[:, \"deferral_payments_p\"] = data.loc[:, \"deferral_payments\"]/data.loc[:, \"total_payments\"]\n",
    "# data.loc[:, \"loan_advances_p\"] = data.loc[:, \"loan_advances\"]/data.loc[:, \"total_payments\"]\n",
    "data.loc[:, \"bonus_p\"] = data.loc[:, \"bonus\"]/data.loc[:, \"total_payments\"]\n",
    "# data.loc[:, \"deferred_income_p\"] = data.loc[:, \"deferred_income\"]/data.loc[:, \"total_payments\"]\n",
    "data.loc[:, \"expenses_p\"] = data.loc[:, \"expenses\"]/data.loc[:, \"total_payments\"]\n",
    "data.loc[:, \"other_p\"] = data.loc[:, \"other\"]/data.loc[:, \"total_payments\"]\n",
    "data.loc[:, \"long_term_incentive_p\"] = data.loc[:, \"long_term_incentive\"]/data.loc[:, \"total_payments\"]\n",
    "# data.loc[:, \"director_fees_p\"] = data.loc[:, \"director_fees\"]/data.loc[:, \"total_payments\"]\n",
    "\n",
    "# data.loc[:, \"restricted_stock_deferred_p\"] = data.loc[:, \"restricted_stock_deferred\"]/data.loc[:, \"total_stock_value\"]\n",
    "data.loc[:, \"exercised_stock_options_p\"] = data.loc[:, \"exercised_stock_options\"]/data.loc[:, \"total_stock_value\"]\n",
    "data.loc[:, \"restricted_stock_p\"] = data.loc[:, \"restricted_stock\"]/data.loc[:, \"total_stock_value\"]\n",
    "\n",
    "data.loc[:, \"from_poi_to_this_person_p\"] = data.loc[:, \"from_poi_to_this_person\"]/data.loc[:, \"to_messages\"]\n",
    "data.loc[:, \"shared_receipt_with_poi_p\"] = data.loc[:, \"shared_receipt_with_poi\"]/data.loc[:, \"to_messages\"]\n",
    "\n",
    "data.loc[:, \"from_this_person_to_poi_p\"] = data.loc[:, \"from_this_person_to_poi\"]/data.loc[:, \"from_messages\"]\n",
    "    \n",
    "data.replace(to_replace=np.NaN, value=0, inplace=True)\n",
    "data.replace(to_replace=np.inf, value=0, inplace=True)\n",
    "data.replace(to_replace=-np.inf, value=0, inplace=True)"
   ]
  },
  {
   "cell_type": "markdown",
   "metadata": {},
   "source": [
    "### Label"
   ]
  },
  {
   "cell_type": "code",
   "execution_count": 5,
   "metadata": {},
   "outputs": [
    {
     "data": {
      "text/plain": [
       "0    True\n",
       "1    True\n",
       "2    True\n",
       "3    True\n",
       "4    True\n",
       "Name: poi, dtype: bool"
      ]
     },
     "execution_count": 5,
     "metadata": {},
     "output_type": "execute_result"
    }
   ],
   "source": [
    "y = x['poi']\n",
    "x = x.drop(axis=1, columns=['poi'])\n",
    "y.head()"
   ]
  },
  {
   "cell_type": "markdown",
   "metadata": {},
   "source": [
    "### 檢查outlier"
   ]
  },
  {
   "cell_type": "code",
   "execution_count": 6,
   "metadata": {},
   "outputs": [
    {
     "name": "stderr",
     "output_type": "stream",
     "text": [
      "/anaconda3/lib/python3.5/site-packages/statsmodels/nonparametric/kde.py:448: RuntimeWarning: invalid value encountered in greater\n",
      "  X = X[np.logical_and(X > clip[0], X < clip[1])] # won't work for two columns.\n",
      "/anaconda3/lib/python3.5/site-packages/statsmodels/nonparametric/kde.py:448: RuntimeWarning: invalid value encountered in less\n",
      "  X = X[np.logical_and(X > clip[0], X < clip[1])] # won't work for two columns.\n"
     ]
    },
    {
     "data": {
      "text/plain": [
       "<seaborn.axisgrid.PairGrid at 0x1a20807f98>"
      ]
     },
     "execution_count": 6,
     "metadata": {},
     "output_type": "execute_result"
    },
    {
     "data": {
      "image/png": "[encoded data removed]",
      "text/plain": [
       "<Figure size 782.125x720 with 20 Axes>"
      ]
     },
     "metadata": {
      "needs_background": "light"
     },
     "output_type": "display_data"
    }
   ],
   "source": [
    "%matplotlib inline\n",
    "import seaborn as sns\n",
    "sns.pairplot(data=DF, vars=[\"total_payments\", \"exercised_stock_options\", \"restricted_stock\", \"total_stock_value\"], hue=\"poi\")"
   ]
  },
  {
   "cell_type": "markdown",
   "metadata": {},
   "source": [
    "印出右上角的outlier"
   ]
  },
  {
   "cell_type": "code",
   "execution_count": 6,
   "metadata": {},
   "outputs": [
    {
     "data": {
      "text/plain": [
       "8    103559793.0\n",
       "Name: total_payments, dtype: float64"
      ]
     },
     "execution_count": 6,
     "metadata": {},
     "output_type": "execute_result"
    }
   ],
   "source": [
    "DF.total_payments.nlargest(1)"
   ]
  },
  {
   "cell_type": "code",
   "execution_count": 8,
   "metadata": {
    "collapsed": true,
    "jupyter": {
     "outputs_hidden": true
    }
   },
   "outputs": [
    {
     "data": {
      "text/plain": [
       "name                                 LAY KENNETH L\n",
       "bonus                                        7e+06\n",
       "deferral_payments                           202911\n",
       "deferred_income                            -300000\n",
       "director_fees                                  NaN\n",
       "email_address                kenneth.lay@enron.com\n",
       "exercised_stock_options                3.43484e+07\n",
       "expenses                                     99832\n",
       "from_messages                                   36\n",
       "from_poi_to_this_person                        123\n",
       "from_this_person_to_poi                         16\n",
       "loan_advances                           8.1525e+07\n",
       "long_term_incentive                        3.6e+06\n",
       "other                                  1.03597e+07\n",
       "poi                                           True\n",
       "restricted_stock                       1.47617e+07\n",
       "restricted_stock_deferred                      NaN\n",
       "salary                                 1.07232e+06\n",
       "shared_receipt_with_poi                       2411\n",
       "to_messages                                   4273\n",
       "total_payments                          1.0356e+08\n",
       "total_stock_value                      4.91101e+07\n",
       "Name: 8, dtype: object"
      ]
     },
     "execution_count": 8,
     "metadata": {},
     "output_type": "execute_result"
    }
   ],
   "source": [
    "DF.loc[8]"
   ]
  },
  {
   "cell_type": "markdown",
   "metadata": {},
   "source": [
    "### 判斷feature重要性"
   ]
  },
  {
   "cell_type": "code",
   "execution_count": 7,
   "metadata": {},
   "outputs": [
    {
     "name": "stdout",
     "output_type": "stream",
     "text": [
      "['expenses', 0.2841708602923555]\n",
      "['from_messages', 0.23050862688713186]\n",
      "['total_stock_value', 0.16298076923076923]\n",
      "['exercised_stock_options', 0.1522728539576366]\n",
      "['from_this_person_to_poi', 0.07726495726495725]\n",
      "['to_messages', 0.04346153846153846]\n",
      "['restricted_stock', 0.040648086213303576]\n",
      "['long_term_incentive', 0.008692307692307574]\n"
     ]
    }
   ],
   "source": [
    "from sklearn.tree import DecisionTreeClassifier\n",
    "from sklearn.ensemble import RandomForestClassifier\n",
    "from sklearn.model_selection import cross_val_score\n",
    "\n",
    "#Decision tree using features with non-null importance\n",
    "clf = DecisionTreeClassifier(random_state = 75)\n",
    "clf.fit(x_num, y)\n",
    "\n",
    "# show the features with non null importance, sorted and create features_list of features for the model\n",
    "features_importance = []\n",
    "for i in range(len(clf.feature_importances_)):\n",
    "    if clf.feature_importances_[i] > 0:\n",
    "        features_importance.append([x_num.columns[i+1], clf.feature_importances_[i]])\n",
    "features_importance.sort(key=lambda x: x[1], reverse = True)\n",
    "for f_i in features_importance:\n",
    "    print (f_i)"
   ]
  },
  {
   "cell_type": "code",
   "execution_count": 6,
   "metadata": {},
   "outputs": [],
   "source": [
    "feature = data[['salary','bonus','exercised_stock_options','total_stock_value','long_term_incentive_p','from_this_person_to_poi_p']]"
   ]
  },
  {
   "cell_type": "markdown",
   "metadata": {},
   "source": [
    "另一種評估feature的方式"
   ]
  },
  {
   "cell_type": "code",
   "execution_count": null,
   "metadata": {},
   "outputs": [],
   "source": [
    "pipe = Pipeline([('reduce_dim', PCA(random_state=42)),\n",
    "                 ('classify', LinearSVC(random_state=42))])"
   ]
  },
  {
   "cell_type": "code",
   "execution_count": 14,
   "metadata": {},
   "outputs": [
    {
     "data": {
      "image/png": "[encoded data removed]",
      "text/plain": [
       "<Figure size 864x648 with 1 Axes>"
      ]
     },
     "metadata": {
      "needs_background": "light"
     },
     "output_type": "display_data"
    }
   ],
   "source": [
    "%matplotlib inline\n",
    "import seaborn as sns\n",
    "from sklearn.feature_selection import SelectPercentile\n",
    "import matplotlib.pyplot as plt\n",
    "\n",
    "def do_split(data):\n",
    "    X = data.copy()\n",
    "    #Removing the poi labels and put them in a separate array, transforming it from True / False to 0 / 1\n",
    "    y = X.pop(\"poi\").astype(int)\n",
    "    \n",
    "    return X, y\n",
    "\n",
    "\n",
    "def plot_importance(dataset):\n",
    "    X, y = do_split(dataset)\n",
    "\n",
    "    selector = SelectPercentile(percentile=100)\n",
    "    a = selector.fit(X, y)\n",
    "\n",
    "    plt.figure(figsize=(12,9))\n",
    "    sns.barplot(y=X.columns, x=a.scores_)\n",
    "\n",
    "plot_importance(data)"
   ]
  },
  {
   "cell_type": "markdown",
   "metadata": {},
   "source": [
    "移除不重要的feature"
   ]
  },
  {
   "cell_type": "code",
   "execution_count": 5,
   "metadata": {},
   "outputs": [],
   "source": [
    "x_num = x_num.drop(axis=1, columns=['from_messages', 'to_messages', 'long_term_incentive']) "
   ]
  },
  {
   "cell_type": "markdown",
   "metadata": {},
   "source": [
    "### 做feature scaling\n",
    "尤其是to_message, from_message與expenses"
   ]
  },
  {
   "cell_type": "code",
   "execution_count": 7,
   "metadata": {},
   "outputs": [],
   "source": [
    "from sklearn import preprocessing\n",
    "minMaxScale = preprocessing.MinMaxScaler(feature_range=(0, 1))\n",
    "scaler = minMaxScale.fit(feature.values)\n",
    "X = scaler.transform(feature.values)"
   ]
  },
  {
   "cell_type": "code",
   "execution_count": 8,
   "metadata": {
    "collapsed": true,
    "jupyter": {
     "outputs_hidden": true
    }
   },
   "outputs": [
    {
     "data": {
      "text/plain": [
       "array([1.        , 0.83333333, 0.91666667, 0.90909091, 0.90909091,\n",
       "       1.        , 0.81818182, 0.81818182, 0.72727273, 0.81818182])"
      ]
     },
     "execution_count": 8,
     "metadata": {},
     "output_type": "execute_result"
    }
   ],
   "source": [
    "clf_basic = DecisionTreeClassifier(random_state = 75)\n",
    "# 僅作測試準確度用，並未建立可再利用的模型\n",
    "cross_val_score(clf_basic, x_num, y, cv= 10)"
   ]
  },
  {
   "cell_type": "markdown",
   "metadata": {},
   "source": [
    "### DNN"
   ]
  },
  {
   "cell_type": "code",
   "execution_count": 8,
   "metadata": {},
   "outputs": [],
   "source": [
    "# 將true/ false轉0/ 1\n",
    "y_num = y.map({False: 0, True: 1}).astype(int)"
   ]
  },
  {
   "cell_type": "code",
   "execution_count": 6,
   "metadata": {},
   "outputs": [],
   "source": [
    "# 解決softmax shape問題\n",
    "def oneHot(data):\n",
    "    X = len(set(data))\n",
    "    ohe = np.zeros((len(data), X))\n",
    "    for i in range(len(data)):\n",
    "        ohe[i][data[i]] = 1\n",
    "    return ohe\n",
    "\n",
    "y_ohe = oneHot(y_num)"
   ]
  },
  {
   "cell_type": "code",
   "execution_count": 8,
   "metadata": {},
   "outputs": [
    {
     "name": "stderr",
     "output_type": "stream",
     "text": [
      "Using TensorFlow backend.\n"
     ]
    },
    {
     "name": "stdout",
     "output_type": "stream",
     "text": [
      "_________________________________________________________________\n",
      "Layer (type)                 Output Shape              Param #   \n",
      "=================================================================\n",
      "dense_1 (Dense)              (None, 64)                448       \n",
      "_________________________________________________________________\n",
      "dense_2 (Dense)              (None, 32)                2080      \n",
      "_________________________________________________________________\n",
      "dense_3 (Dense)              (None, 20)                660       \n",
      "_________________________________________________________________\n",
      "dense_4 (Dense)              (None, 10)                210       \n",
      "_________________________________________________________________\n",
      "dense_5 (Dense)              (None, 1)                 11        \n",
      "=================================================================\n",
      "Total params: 3,409\n",
      "Trainable params: 3,409\n",
      "Non-trainable params: 0\n",
      "_________________________________________________________________\n"
     ]
    }
   ],
   "source": [
    "from keras.models import Sequential\n",
    "from keras.layers import Dense, Activation\n",
    "\n",
    "DNNmodel = Sequential()\n",
    "DNNmodel.add(Dense(64, input_dim=6, activation='relu'))\n",
    "DNNmodel.add(Dense(32, activation='relu'))\n",
    "DNNmodel.add(Dense(20, activation='relu'))\n",
    "DNNmodel.add(Dense(10, activation='relu'))\n",
    "DNNmodel.add(Dense(1, activation='sigmoid'))\n",
    "# DNNmodel.add(Dense(2, activation='softmax'))\n",
    "DNNmodel.summary()"
   ]
  },
  {
   "cell_type": "markdown",
   "metadata": {},
   "source": [
    "對name, email做oneHot試試看準確度"
   ]
  },
  {
   "cell_type": "code",
   "execution_count": 9,
   "metadata": {},
   "outputs": [
    {
     "name": "stdout",
     "output_type": "stream",
     "text": [
      "Epoch 1/10\n",
      " - 0s - loss: 0.6770 - acc: 0.8850\n",
      "Epoch 2/10\n",
      " - 0s - loss: 0.6329 - acc: 0.8850\n",
      "Epoch 3/10\n",
      " - 0s - loss: 0.5782 - acc: 0.8850\n",
      "Epoch 4/10\n",
      " - 0s - loss: 0.5132 - acc: 0.8850\n",
      "Epoch 5/10\n",
      " - 0s - loss: 0.4487 - acc: 0.8850\n",
      "Epoch 6/10\n",
      " - 0s - loss: 0.4072 - acc: 0.8850\n",
      "Epoch 7/10\n",
      " - 0s - loss: 0.3742 - acc: 0.8850\n",
      "Epoch 8/10\n",
      " - 0s - loss: 0.3571 - acc: 0.8850\n",
      "Epoch 9/10\n",
      " - 0s - loss: 0.3361 - acc: 0.8850\n",
      "Epoch 10/10\n",
      " - 0s - loss: 0.3215 - acc: 0.8850\n"
     ]
    }
   ],
   "source": [
    "DNNmodel.compile(loss='binary_crossentropy', optimizer='adam', metrics=['accuracy'])\n",
    "# softmax的話, y要用y_ohe\n",
    "train_history = DNNmodel.fit(x=X, y=y, epochs=10, batch_size=10, verbose=2)"
   ]
  },
  {
   "cell_type": "markdown",
   "metadata": {},
   "source": [
    "### 預測"
   ]
  },
  {
   "cell_type": "code",
   "execution_count": 10,
   "metadata": {},
   "outputs": [],
   "source": [
    "# 處理所有前處理該做的事\n",
    "def preProcess(df):\n",
    "    df = df.drop(axis=1, columns=['loan_advances', 'restricted_stock_deferred', 'director_fees', 'deferral_payments', 'deferred_income', 'email_address', 'name'])\n",
    "\n",
    "    # 這裡的特徵處理應該延續train data (append再train後，以全部平均來補)     \n",
    "    num_features = []\n",
    "    for dtype, feature in zip(df.dtypes, df.columns):\n",
    "        if dtype == 'float64' or dtype == 'int64':\n",
    "            num_features.append(feature)\n",
    "    df = df[num_features]\n",
    "\n",
    "    df = df.fillna(df.mean())\n",
    "    \n",
    "    \n",
    "    data = df.copy()\n",
    "\n",
    "    data.loc[:, \"salary_p\"] = data.loc[:, \"salary\"]/data.loc[:, \"total_payments\"]\n",
    "    data.loc[:, \"bonus_p\"] = data.loc[:, \"bonus\"]/data.loc[:, \"total_payments\"]\n",
    "    data.loc[:, \"expenses_p\"] = data.loc[:, \"expenses\"]/data.loc[:, \"total_payments\"]\n",
    "    data.loc[:, \"other_p\"] = data.loc[:, \"other\"]/data.loc[:, \"total_payments\"]\n",
    "    data.loc[:, \"long_term_incentive_p\"] = data.loc[:, \"long_term_incentive\"]/data.loc[:, \"total_payments\"]\n",
    "    data.loc[:, \"exercised_stock_options_p\"] = data.loc[:, \"exercised_stock_options\"]/data.loc[:, \"total_stock_value\"]\n",
    "    data.loc[:, \"restricted_stock_p\"] = data.loc[:, \"restricted_stock\"]/data.loc[:, \"total_stock_value\"]\n",
    "    data.loc[:, \"from_poi_to_this_person_p\"] = data.loc[:, \"from_poi_to_this_person\"]/data.loc[:, \"to_messages\"]\n",
    "    data.loc[:, \"shared_receipt_with_poi_p\"] = data.loc[:, \"shared_receipt_with_poi\"]/data.loc[:, \"to_messages\"]\n",
    "    data.loc[:, \"from_this_person_to_poi_p\"] = data.loc[:, \"from_this_person_to_poi\"]/data.loc[:, \"from_messages\"]\n",
    "\n",
    "    data.replace(to_replace=np.NaN, value=0, inplace=True)\n",
    "    data.replace(to_replace=np.inf, value=0, inplace=True)\n",
    "    data.replace(to_replace=-np.inf, value=0, inplace=True)\n",
    "    \n",
    "    df = data[['salary','bonus','exercised_stock_options','total_stock_value','long_term_incentive_p','from_this_person_to_poi_p']]\n",
    "    \n",
    "    df = scaler.transform(df.values)\n",
    "\n",
    "    return df"
   ]
  },
  {
   "cell_type": "code",
   "execution_count": 11,
   "metadata": {},
   "outputs": [],
   "source": [
    "DF2 = pd.read_csv('test_features.csv')\n",
    "DF2_predict = preProcess(DF2)"
   ]
  },
  {
   "cell_type": "code",
   "execution_count": 14,
   "metadata": {
    "collapsed": true,
    "jupyter": {
     "outputs_hidden": true
    }
   },
   "outputs": [
    {
     "data": {
      "text/plain": [
       "name                          0\n",
       "bonus                        12\n",
       "deferral_payments            22\n",
       "deferred_income              18\n",
       "director_fees                29\n",
       "email_address                 5\n",
       "exercised_stock_options      12\n",
       "expenses                     11\n",
       "from_messages                12\n",
       "from_poi_to_this_person      12\n",
       "from_this_person_to_poi      12\n",
       "loan_advances                31\n",
       "long_term_incentive          16\n",
       "other                         9\n",
       "restricted_stock              5\n",
       "restricted_stock_deferred    25\n",
       "salary                       11\n",
       "shared_receipt_with_poi      12\n",
       "to_messages                  12\n",
       "total_payments                4\n",
       "total_stock_value             5\n",
       "dtype: int64"
      ]
     },
     "execution_count": 14,
     "metadata": {},
     "output_type": "execute_result"
    }
   ],
   "source": [
    "DF2.isnull().sum()"
   ]
  },
  {
   "cell_type": "code",
   "execution_count": 17,
   "metadata": {
    "collapsed": true,
    "jupyter": {
     "outputs_hidden": true
    }
   },
   "outputs": [
    {
     "data": {
      "text/plain": [
       "array([False,  True,  True, False, False,  True,  True,  True, False,\n",
       "       False, False, False, False,  True, False,  True, False,  True,\n",
       "       False, False,  True, False, False,  True, False, False, False,\n",
       "        True, False, False, False, False, False])"
      ]
     },
     "execution_count": 17,
     "metadata": {},
     "output_type": "execute_result"
    }
   ],
   "source": [
    "submit = clf.predict(DF2_predict)\n",
    "submit"
   ]
  },
  {
   "cell_type": "markdown",
   "metadata": {},
   "source": [
    "DNN的預測"
   ]
  },
  {
   "cell_type": "code",
   "execution_count": 16,
   "metadata": {
    "collapsed": true,
    "jupyter": {
     "outputs_hidden": true
    }
   },
   "outputs": [
    {
     "data": {
      "text/html": [
       "<div>\n",
       "<style scoped>\n",
       "    .dataframe tbody tr th:only-of-type {\n",
       "        vertical-align: middle;\n",
       "    }\n",
       "\n",
       "    .dataframe tbody tr th {\n",
       "        vertical-align: top;\n",
       "    }\n",
       "\n",
       "    .dataframe thead th {\n",
       "        text-align: right;\n",
       "    }\n",
       "</style>\n",
       "<table border=\"1\" class=\"dataframe\">\n",
       "  <thead>\n",
       "    <tr style=\"text-align: right;\">\n",
       "      <th></th>\n",
       "      <th>salary</th>\n",
       "      <th>bonus</th>\n",
       "      <th>exercised_stock_options</th>\n",
       "      <th>total_stock_value</th>\n",
       "      <th>long_term_incentive_p</th>\n",
       "      <th>from_this_person_to_poi_p</th>\n",
       "    </tr>\n",
       "  </thead>\n",
       "  <tbody>\n",
       "    <tr>\n",
       "      <th>0</th>\n",
       "      <td>213999.0</td>\n",
       "      <td>5249999.0</td>\n",
       "      <td>9.531360e+05</td>\n",
       "      <td>1110705.0</td>\n",
       "      <td>0.622336</td>\n",
       "      <td>0.223140</td>\n",
       "    </tr>\n",
       "    <tr>\n",
       "      <th>1</th>\n",
       "      <td>278601.0</td>\n",
       "      <td>1350000.0</td>\n",
       "      <td>1.756609e+07</td>\n",
       "      <td>252055.0</td>\n",
       "      <td>0.364960</td>\n",
       "      <td>0.555556</td>\n",
       "    </tr>\n",
       "    <tr>\n",
       "      <th>2</th>\n",
       "      <td>243293.0</td>\n",
       "      <td>1500000.0</td>\n",
       "      <td>5.538001e+06</td>\n",
       "      <td>6391065.0</td>\n",
       "      <td>5.601357</td>\n",
       "      <td>0.656250</td>\n",
       "    </tr>\n",
       "    <tr>\n",
       "      <th>3</th>\n",
       "      <td>365163.0</td>\n",
       "      <td>3000000.0</td>\n",
       "      <td>2.291113e+06</td>\n",
       "      <td>3614261.0</td>\n",
       "      <td>0.272744</td>\n",
       "      <td>0.198436</td>\n",
       "    </tr>\n",
       "    <tr>\n",
       "      <th>4</th>\n",
       "      <td>415189.0</td>\n",
       "      <td>1000000.0</td>\n",
       "      <td>1.756609e+07</td>\n",
       "      <td>2502063.0</td>\n",
       "      <td>0.187290</td>\n",
       "      <td>0.244898</td>\n",
       "    </tr>\n",
       "  </tbody>\n",
       "</table>\n",
       "</div>"
      ],
      "text/plain": [
       "     salary      bonus  exercised_stock_options  total_stock_value  \\\n",
       "0  213999.0  5249999.0             9.531360e+05          1110705.0   \n",
       "1  278601.0  1350000.0             1.756609e+07           252055.0   \n",
       "2  243293.0  1500000.0             5.538001e+06          6391065.0   \n",
       "3  365163.0  3000000.0             2.291113e+06          3614261.0   \n",
       "4  415189.0  1000000.0             1.756609e+07          2502063.0   \n",
       "\n",
       "   long_term_incentive_p  from_this_person_to_poi_p  \n",
       "0               0.622336                   0.223140  \n",
       "1               0.364960                   0.555556  \n",
       "2               5.601357                   0.656250  \n",
       "3               0.272744                   0.198436  \n",
       "4               0.187290                   0.244898  "
      ]
     },
     "execution_count": 16,
     "metadata": {},
     "output_type": "execute_result"
    }
   ],
   "source": [
    "DF2_predict.head()"
   ]
  },
  {
   "cell_type": "code",
   "execution_count": 12,
   "metadata": {},
   "outputs": [
    {
     "data": {
      "text/plain": [
       "array([[1.29633740e-01],\n",
       "       [1.92674130e-01],\n",
       "       [7.58059174e-02],\n",
       "       [1.27152443e-01],\n",
       "       [1.89731196e-01],\n",
       "       [1.92478582e-01],\n",
       "       [1.62587225e-01],\n",
       "       [1.37180254e-01],\n",
       "       [7.65786171e-02],\n",
       "       [1.27144217e-01],\n",
       "       [6.60495237e-02],\n",
       "       [4.58882116e-02],\n",
       "       [9.99167114e-02],\n",
       "       [0.00000000e+00],\n",
       "       [1.44572988e-01],\n",
       "       [8.21847469e-02],\n",
       "       [1.07973754e-01],\n",
       "       [1.45718426e-01],\n",
       "       [1.12178266e-01],\n",
       "       [5.42676523e-02],\n",
       "       [1.97895290e-03],\n",
       "       [1.35520443e-01],\n",
       "       [1.25778809e-01],\n",
       "       [1.51825882e-02],\n",
       "       [8.97502005e-02],\n",
       "       [2.64956683e-01],\n",
       "       [6.70273602e-02],\n",
       "       [8.28878110e-05],\n",
       "       [1.12297945e-01],\n",
       "       [1.17833048e-01],\n",
       "       [5.09990007e-02],\n",
       "       [1.11065857e-01],\n",
       "       [1.34901479e-01]], dtype=float32)"
      ]
     },
     "execution_count": 12,
     "metadata": {},
     "output_type": "execute_result"
    }
   ],
   "source": [
    "submit_DNN = DNNmodel.predict(DF2_predict)\n",
    "submit_DNN"
   ]
  },
  {
   "cell_type": "code",
   "execution_count": 13,
   "metadata": {},
   "outputs": [
    {
     "data": {
      "text/html": [
       "<div>\n",
       "<style scoped>\n",
       "    .dataframe tbody tr th:only-of-type {\n",
       "        vertical-align: middle;\n",
       "    }\n",
       "\n",
       "    .dataframe tbody tr th {\n",
       "        vertical-align: top;\n",
       "    }\n",
       "\n",
       "    .dataframe thead th {\n",
       "        text-align: right;\n",
       "    }\n",
       "</style>\n",
       "<table border=\"1\" class=\"dataframe\">\n",
       "  <thead>\n",
       "    <tr style=\"text-align: right;\">\n",
       "      <th></th>\n",
       "      <th>name</th>\n",
       "      <th>poi</th>\n",
       "    </tr>\n",
       "  </thead>\n",
       "  <tbody>\n",
       "    <tr>\n",
       "      <th>0</th>\n",
       "      <td>BELDEN TIMOTHY N</td>\n",
       "      <td>0.129634</td>\n",
       "    </tr>\n",
       "    <tr>\n",
       "      <th>1</th>\n",
       "      <td>BOWEN JR RAYMOND M</td>\n",
       "      <td>0.192674</td>\n",
       "    </tr>\n",
       "    <tr>\n",
       "      <th>2</th>\n",
       "      <td>HANNON KEVIN P</td>\n",
       "      <td>0.075806</td>\n",
       "    </tr>\n",
       "    <tr>\n",
       "      <th>3</th>\n",
       "      <td>DELAINEY DAVID W</td>\n",
       "      <td>0.127152</td>\n",
       "    </tr>\n",
       "    <tr>\n",
       "      <th>4</th>\n",
       "      <td>CAUSEY RICHARD A</td>\n",
       "      <td>0.189731</td>\n",
       "    </tr>\n",
       "  </tbody>\n",
       "</table>\n",
       "</div>"
      ],
      "text/plain": [
       "                 name       poi\n",
       "0    BELDEN TIMOTHY N  0.129634\n",
       "1  BOWEN JR RAYMOND M  0.192674\n",
       "2      HANNON KEVIN P  0.075806\n",
       "3    DELAINEY DAVID W  0.127152\n",
       "4    CAUSEY RICHARD A  0.189731"
      ]
     },
     "execution_count": 13,
     "metadata": {},
     "output_type": "execute_result"
    }
   ],
   "source": [
    "DF_submit = pd.DataFrame()\n",
    "DF_submit['name'] = DF2['name']\n",
    "DF_submit['poi'] = submit_DNN\n",
    "DF_submit.head()"
   ]
  },
  {
   "cell_type": "code",
   "execution_count": 14,
   "metadata": {},
   "outputs": [],
   "source": [
    "DF_submit.to_csv('submit.csv', index=False)"
   ]
  },
  {
   "cell_type": "code",
   "execution_count": null,
   "metadata": {},
   "outputs": [],
   "source": []
  }
 ],
 "metadata": {
  "kernelspec": {
   "display_name": "Python 3",
   "language": "python",
   "name": "python3"
  },
  "language_info": {
   "codemirror_mode": {
    "name": "ipython",
    "version": 3
   },
   "file_extension": ".py",
   "mimetype": "text/x-python",
   "name": "python",
   "nbconvert_exporter": "python",
   "pygments_lexer": "ipython3",
   "version": "3.5.5"
  }
 },
 "nbformat": 4,
 "nbformat_minor": 2
}
